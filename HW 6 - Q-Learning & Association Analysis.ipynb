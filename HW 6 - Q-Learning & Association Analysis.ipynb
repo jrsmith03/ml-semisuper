{
 "cells": [
  {
   "cell_type": "markdown",
   "metadata": {},
   "source": [
    "Name(s): Alan Tran and John Smith"
   ]
  },
  {
   "cell_type": "markdown",
   "metadata": {},
   "source": [
    "# HW 6: Q-Learning and Association Analysis"
   ]
  },
  {
   "cell_type": "markdown",
   "metadata": {},
   "source": [
    "## Part 1: Q-Learning\n",
    "\n",
    "For the first part of this assignment, you'll code an ML agent that uses Q-Learning to learn how to play Snake.\n",
    "\n",
    "<img src=\"snake_game.jpg\" width=\"300\"/>\n",
    "\n",
    "\n",
    "If you are not familiar with the game of Snake, read about how the game is played, and even play it yourself, [here](https://www.coolmathgames.com/blog/how-to-play-snake-mastering-a-classic). \n",
    "\n",
    "Once you understand how to play the game, continue with the assignment!"
   ]
  },
  {
   "cell_type": "markdown",
   "metadata": {},
   "source": [
    "#### Imports"
   ]
  },
  {
   "cell_type": "code",
   "execution_count": 174,
   "metadata": {},
   "outputs": [],
   "source": [
    "# you will need pygame installed\n",
    "# !pip install pygame"
   ]
  },
  {
   "cell_type": "code",
   "execution_count": 175,
   "metadata": {},
   "outputs": [],
   "source": [
    "import pygame\n",
    "import random\n",
    "import numpy as np\n",
    "\n",
    "import pickle as pkl\n",
    "import itertools\n",
    "\n",
    "# the environment is provided in game_loop.py\n",
    "from game_loop import *"
   ]
  },
  {
   "cell_type": "markdown",
   "metadata": {},
   "source": [
    "### Game States\n",
    "For Q-Learning, the agent needs to keep a Q-Table of game states. To keep the number of possible game states manageable, we will define the game state as a combination of:\n",
    "* Horizontal orientation from the food - is the food currently to the left or the right of the snake's head? (-1: left, 0: same, 1: right)\n",
    "* Vertical orientation from the food - is the food currently above or below the snake's head? (-1: below, 0: same, 1: above) \n",
    "* What are in the squares adjacent to the snake's head - are there walls or snake tail in these squares? (1 indicates something is there, 0 indicates it is open)\n",
    "\n",
    "The environment (which is in the provided `game_loop.py` file) will provide this state in the form of two tuples:\n",
    "- The first tuple will contain (relative horizontal orientation to food, relative vertical orientation to food).\n",
    "- The second tuple will contain the squares surrounding the snake's head in the form of (up, down, left, right) where a 1 indicates wall or tail is in that square and 0 indicates that square is open.\n",
    "\n",
    "### Snake Agent\n",
    "Below is a provided class for the SnakeAgent that will learn to play the game, using Q-Learning. \n",
    "\n",
    "Some methods have been provided for you - **do not change these**:\n",
    "* `__init__`: The constructor sets up some constants and sets the learning parameter values. Do not change the learning parameter values for part 1 of this assignment. It also calls init_qtable to initialize the Q-Table. \n",
    "* `init_qtable`: Initializes the Q-Table. The `qtable` is implemented as a dictionary of state -> list of four Q-Values, representing the four action choices of [left, right, up, down].\n",
    "* `save` and `load`: Saves the Q-Values (via pickle) so the agent can be re-loaded later via load.\n",
    "\n",
    "There are two additional methods in the SnakeAgent class **that you will implement**. These will be called by the `game_loop.py` file.\n",
    "* `act`: This method is responsible for selecting an action based on the current state.\n",
    "* `update`: This where the Q-values get updated based on the agent's actions and rewards during gameplay.\n"
   ]
  },
  {
   "cell_type": "markdown",
   "metadata": {},
   "source": [
    "### Implementation\n",
    "\n",
    "Q1. Implement the `act` method in the SnakeAgent class.\n",
    "\n",
    "The `act` method is responsible for selecting an action based on the current state, which is determined by the Snake's position and the relative position of the food. The agent can choose to explore randomly with a probability of epsilon or to exploit the learned Q-values to select the next action.\n",
    "\n",
    "In this method, you should:\n",
    "- Based on the current state, choose an action using an epsilon-greedy strategy\n",
    "  - Explore: Select a random action (0: left, 1: right, 2: up, 3: down)\n",
    "  - Exploit: Select the action with the highest Q-value for the current state\n",
    "- Record the current state and action, as you'll need these later for the update method (use `self.curr_state` and `self.curr_act`)\n",
    "- Return the chosen action as a string (use `self.ACTION_STRING_MAP` in the SnakeAgent class)"
   ]
  },
  {
   "cell_type": "markdown",
   "metadata": {},
   "source": [
    "Q2. Implement the `update` method in the SnakeAgent class.\n",
    "\n",
    "The `update` method is a critical part of your SnakeAgent's learning process. It's where you update the Q-values based on the agent's actions and rewards during gameplay. Follow these steps to implement the `update` function:\n",
    "\n",
    "**Rewards**:\n",
    "Positive rewards are given for favorable actions, and negative rewards are given for unfavorable ones.\n",
    "- Check if the game is over using the `game_over` parameter. If it is over, give the agent a reward of -10 to indicate that the agent has lost the game.\n",
    "- If the game is not over, calculate the reward as follows: \n",
    "    - If the snake got closer to the food or if it ate the food, then set the reward to +1. \n",
    "    - If the snake got farther from the food or did not eat the food, then set the reward to -1.\n",
    "You can use `self.curr_dist_from_food` and the incoming parameter from the environment `dist_from_food` to help you determine this.\n",
    "    \n",
    "**Update the Q-value for the state-action pair**:\n",
    "- With the current state and action, update the Q-value for this state-action pair using the Q-learning formula, where `max(Q(s_t_plus_1))` is the maximum Q-value for the next state:\n",
    "$$\n",
    "Q(s_t, a_t) = Q(s_t, a_t) + \\alpha \\cdot (R_t + \\gamma \\cdot \\max_a Q(s_{t+1}, a) - Q(s_t, a_t))\n",
    "$$"
   ]
  },
  {
   "cell_type": "code",
   "execution_count": 176,
   "metadata": {},
   "outputs": [],
   "source": [
    "class SnakeAgent(object):\n",
    "    '''\n",
    "    Do not change this code, except for the 'act' and 'update' methods.\n",
    "    '''\n",
    "    def __init__(self, DIS_WIDTH, DIS_HEIGHT, BLOCK_SIZE):\n",
    "\n",
    "        self.ACTION_STRING_MAP = {0: \"left\", 1: \"right\", 2: \"up\", 3: \"down\"}\n",
    "\n",
    "        # Learning parameters - do not change these for Part 1\n",
    "        self.epsilon = 0.1 # exploration rate\n",
    "        self.alpha = 0.7 # learning rate\n",
    "        self.gamma = 0.5 # discount factor\n",
    "\n",
    "        # Initialize the Q-Table\n",
    "        self.init_qtable()\n",
    "        \n",
    "        # State/Action history\n",
    "        self.curr_state = None\n",
    "        self.curr_act = None\n",
    "        self.curr_dist_from_food = 1000\n",
    "\n",
    "    def init_qtable(self):\n",
    "        '''Initialize the qtable to all 0s'''\n",
    "        self.qtable = {}\n",
    "        REL_Y = [-1, 0, 1] # [below, same, above]\n",
    "        REL_X = [-1, 0, 1] # [left, same, right]\n",
    "        SURROUNDINGS = list(itertools.product(*[[0,1]] * 4)) # [0, 1] possibilities for surrounding block in each direction\n",
    "        for y in REL_X:\n",
    "            for x in REL_Y:\n",
    "                for s in SURROUNDINGS:\n",
    "                    self.qtable[QState((x, y), tuple(s))] = [0, 0, 0, 0] # q values for actions [left, right, up, down]\n",
    "\n",
    "    def load(self, path=\"qtable.pkl\"):\n",
    "        return pkl.load(open(path, \"rb\"))\n",
    "\n",
    "    def save(self, path=\"qtable.pkl\"):\n",
    "        pkl.dump(self.qtable, open(path, \"wb\"))\n",
    "        \n",
    "    \n",
    "    '''\n",
    "    Implement these methods:\n",
    "    '''\n",
    "    \n",
    "    def act(self, state):\n",
    "        self.curr_state = state\n",
    "        exploit_choice = random.random()\n",
    "        if (exploit_choice < self.epsilon) :\n",
    "            self.curr_act = random.randint(0, 3)\n",
    "        else : \n",
    "            q_values = self.qtable[state]\n",
    "            self.curr_act = np.argmax(q_values)\n",
    "        return self.ACTION_STRING_MAP[self.curr_act]\n",
    "    \n",
    "    def update(self, game_over, dist_from_food, new_state):  \n",
    "        # TODO: Implement this method\n",
    "        if game_over:\n",
    "            reward = -10\n",
    "        elif dist_from_food < self.curr_dist_from_food or dist_from_food == 0:\n",
    "            # snake got closer to food or it ate the food (distance == 0)\n",
    "            reward = 1\n",
    "        else:\n",
    "            # snake got futher or didn't eat the food\n",
    "            reward = -1\n",
    "\n",
    "        old_q = self.qtable[self.curr_state][self.curr_act]\n",
    "        self.qtable[self.curr_state][self.curr_act] = old_q + self.alpha * (reward + self.gamma * max(self.qtable[new_state]) - old_q)\n",
    "        \n",
    "        self.curr_dist_from_food = dist_from_food\n",
    "\n",
    "        return reward\n"
   ]
  },
  {
   "cell_type": "markdown",
   "metadata": {},
   "source": [
    "### Game Loop\n",
    "The code in this cell will kick off the game, using your SnakeAgent, and will let your agent play for the specified number of eqisodes, keeping track of the scores as your agent learns how to play. "
   ]
  },
  {
   "cell_type": "code",
   "execution_count": 177,
   "metadata": {},
   "outputs": [
    {
     "name": "stdout",
     "output_type": "stream",
     "text": [
      "Games: 1; Score: 1; Max Score: 1\n",
      "Games: 2; Score: 1; Max Score: 1\n",
      "Games: 3; Score: 1; Max Score: 1\n",
      "Games: 4; Score: 1; Max Score: 1\n"
     ]
    },
    {
     "name": "stdout",
     "output_type": "stream",
     "text": [
      "Games: 5; Score: 1; Max Score: 1\n",
      "Games: 6; Score: 1; Max Score: 1\n",
      "Games: 7; Score: 1; Max Score: 1\n",
      "Games: 8; Score: 1; Max Score: 1\n",
      "Games: 9; Score: 1; Max Score: 1\n",
      "Games: 10; Score: 1; Max Score: 1\n",
      "Games: 11; Score: 1; Max Score: 1\n",
      "Games: 12; Score: 1; Max Score: 1\n",
      "Games: 13; Score: 1; Max Score: 1\n",
      "Games: 14; Score: 1; Max Score: 1\n",
      "Games: 15; Score: 1; Max Score: 1\n",
      "Games: 16; Score: 0; Max Score: 1\n",
      "Games: 17; Score: 1; Max Score: 1\n",
      "Games: 18; Score: 2; Max Score: 2\n",
      "Games: 19; Score: 1; Max Score: 2\n",
      "Games: 20; Score: 1; Max Score: 2\n",
      "Games: 21; Score: 1; Max Score: 2\n",
      "Games: 22; Score: 1; Max Score: 2\n",
      "Games: 23; Score: 1; Max Score: 2\n",
      "Games: 24; Score: 1; Max Score: 2\n",
      "Games: 25; Score: 1; Max Score: 2\n",
      "Games: 26; Score: 1; Max Score: 2\n",
      "Games: 27; Score: 1; Max Score: 2\n",
      "Games: 28; Score: 1; Max Score: 2\n",
      "Games: 29; Score: 0; Max Score: 2\n",
      "Games: 30; Score: 1; Max Score: 2\n",
      "Games: 31; Score: 1; Max Score: 2\n",
      "Games: 32; Score: 1; Max Score: 2\n",
      "Games: 33; Score: 1; Max Score: 2\n",
      "Games: 34; Score: 1; Max Score: 2\n",
      "Games: 35; Score: 1; Max Score: 2\n",
      "Games: 36; Score: 1; Max Score: 2\n",
      "Games: 37; Score: 2; Max Score: 2\n",
      "Games: 38; Score: 1; Max Score: 2\n",
      "Games: 39; Score: 1; Max Score: 2\n",
      "Games: 40; Score: 1; Max Score: 2\n",
      "Games: 41; Score: 1; Max Score: 2\n",
      "Games: 42; Score: 0; Max Score: 2\n",
      "Games: 43; Score: 1; Max Score: 2\n",
      "Games: 44; Score: 1; Max Score: 2\n",
      "Games: 45; Score: 1; Max Score: 2\n",
      "Games: 46; Score: 1; Max Score: 2\n",
      "Games: 47; Score: 1; Max Score: 2\n",
      "Games: 48; Score: 1; Max Score: 2\n",
      "Games: 49; Score: 1; Max Score: 2\n",
      "Games: 50; Score: 1; Max Score: 2\n",
      "Games: 51; Score: 2; Max Score: 2\n",
      "Games: 52; Score: 1; Max Score: 2\n",
      "Games: 53; Score: 1; Max Score: 2\n",
      "Games: 54; Score: 1; Max Score: 2\n",
      "Games: 55; Score: 1; Max Score: 2\n",
      "Games: 56; Score: 2; Max Score: 2\n",
      "Games: 57; Score: 1; Max Score: 2\n",
      "Games: 58; Score: 1; Max Score: 2\n",
      "Games: 59; Score: 1; Max Score: 2\n",
      "Games: 60; Score: 1; Max Score: 2\n",
      "Games: 61; Score: 1; Max Score: 2\n",
      "Games: 62; Score: 1; Max Score: 2\n",
      "Games: 63; Score: 1; Max Score: 2\n",
      "Games: 64; Score: 1; Max Score: 2\n",
      "Games: 65; Score: 1; Max Score: 2\n",
      "Games: 66; Score: 1; Max Score: 2\n",
      "Games: 67; Score: 1; Max Score: 2\n",
      "Games: 68; Score: 1; Max Score: 2\n",
      "Games: 69; Score: 1; Max Score: 2\n",
      "Games: 70; Score: 1; Max Score: 2\n",
      "Games: 71; Score: 1; Max Score: 2\n",
      "Games: 72; Score: 1; Max Score: 2\n",
      "Games: 73; Score: 1; Max Score: 2\n",
      "Games: 74; Score: 1; Max Score: 2\n",
      "Games: 75; Score: 1; Max Score: 2\n",
      "Games: 76; Score: 1; Max Score: 2\n",
      "Games: 77; Score: 1; Max Score: 2\n",
      "Games: 78; Score: 1; Max Score: 2\n",
      "Games: 79; Score: 1; Max Score: 2\n",
      "Games: 80; Score: 1; Max Score: 2\n",
      "Games: 81; Score: 1; Max Score: 2\n",
      "Games: 82; Score: 1; Max Score: 2\n",
      "Games: 83; Score: 1; Max Score: 2\n",
      "Games: 84; Score: 1; Max Score: 2\n",
      "Games: 85; Score: 1; Max Score: 2\n",
      "Games: 86; Score: 1; Max Score: 2\n",
      "Games: 87; Score: 1; Max Score: 2\n",
      "Games: 88; Score: 1; Max Score: 2\n",
      "Games: 89; Score: 1; Max Score: 2\n",
      "Games: 90; Score: 1; Max Score: 2\n",
      "Games: 91; Score: 1; Max Score: 2\n",
      "Games: 92; Score: 1; Max Score: 2\n",
      "Games: 93; Score: 1; Max Score: 2\n",
      "Games: 94; Score: 1; Max Score: 2\n",
      "Games: 95; Score: 1; Max Score: 2\n",
      "Games: 96; Score: 1; Max Score: 2\n",
      "Games: 97; Score: 1; Max Score: 2\n",
      "Games: 98; Score: 1; Max Score: 2\n",
      "Games: 99; Score: 2; Max Score: 2\n",
      "Games: 100; Score: 1; Max Score: 2\n",
      "Games: 101; Score: 1; Max Score: 2\n",
      "Games: 102; Score: 1; Max Score: 2\n",
      "Games: 103; Score: 2; Max Score: 2\n",
      "Games: 104; Score: 2; Max Score: 2\n",
      "Games: 105; Score: 1; Max Score: 2\n",
      "Games: 106; Score: 3; Max Score: 3\n",
      "Games: 107; Score: 8; Max Score: 8\n",
      "Games: 108; Score: 3; Max Score: 8\n",
      "Games: 109; Score: 3; Max Score: 8\n",
      "Games: 110; Score: 3; Max Score: 8\n",
      "Games: 111; Score: 1; Max Score: 8\n",
      "Games: 112; Score: 4; Max Score: 8\n",
      "Games: 113; Score: 4; Max Score: 8\n",
      "Games: 114; Score: 3; Max Score: 8\n",
      "Games: 115; Score: 2; Max Score: 8\n",
      "Games: 116; Score: 1; Max Score: 8\n",
      "Games: 117; Score: 7; Max Score: 8\n",
      "Games: 118; Score: 2; Max Score: 8\n",
      "Games: 119; Score: 2; Max Score: 8\n",
      "Games: 120; Score: 4; Max Score: 8\n",
      "Games: 121; Score: 3; Max Score: 8\n",
      "Games: 122; Score: 4; Max Score: 8\n",
      "Games: 123; Score: 2; Max Score: 8\n",
      "Games: 124; Score: 25; Max Score: 25\n"
     ]
    },
    {
     "ename": "KeyboardInterrupt",
     "evalue": "",
     "output_type": "error",
     "traceback": [
      "\u001b[0;31m---------------------------------------------------------------------------\u001b[0m",
      "\u001b[0;31mKeyboardInterrupt\u001b[0m                         Traceback (most recent call last)",
      "Cell \u001b[0;32mIn[177], line 30\u001b[0m\n\u001b[1;32m     26\u001b[0m     agent\u001b[38;5;241m.\u001b[39mepsilon \u001b[38;5;241m=\u001b[39m \u001b[38;5;241m.3\u001b[39m\n\u001b[1;32m     28\u001b[0m \u001b[38;5;66;03m# Start the game\u001b[39;00m\n\u001b[1;32m     29\u001b[0m \u001b[38;5;66;03m# (To turn off the game visualizations, you can set draw=False)\u001b[39;00m\n\u001b[0;32m---> 30\u001b[0m score \u001b[38;5;241m=\u001b[39m GameLoop(agent, DIS_WIDTH, DIS_HEIGHT, BLOCK_SIZE, FRAMESPEED, draw\u001b[38;5;241m=\u001b[39m\u001b[38;5;28;01mTrue\u001b[39;00m)\n\u001b[1;32m     32\u001b[0m max_score \u001b[38;5;241m=\u001b[39m \u001b[38;5;28mmax\u001b[39m(max_score, score)\n\u001b[1;32m     33\u001b[0m \u001b[38;5;28mprint\u001b[39m(\u001b[38;5;124mf\u001b[39m\u001b[38;5;124m\"\u001b[39m\u001b[38;5;124mGames: \u001b[39m\u001b[38;5;132;01m{\u001b[39;00mgame_count\u001b[38;5;132;01m}\u001b[39;00m\u001b[38;5;124m; Score: \u001b[39m\u001b[38;5;132;01m{\u001b[39;00mscore\u001b[38;5;132;01m}\u001b[39;00m\u001b[38;5;124m; Max Score: \u001b[39m\u001b[38;5;132;01m{\u001b[39;00mmax_score\u001b[38;5;132;01m}\u001b[39;00m\u001b[38;5;124m\"\u001b[39m) \u001b[38;5;66;03m# Output results of each game to console to monitor as agent is training\u001b[39;00m\n",
      "File \u001b[0;32m~/Desktop/ML/ml-semisuper/game_loop.py:132\u001b[0m, in \u001b[0;36mGameLoop\u001b[0;34m(agent, DIS_WIDTH, DIS_HEIGHT, BLOCK_SIZE, FRAMESPEED, draw)\u001b[0m\n\u001b[1;32m    130\u001b[0m DrawSnake(snake_list)\n\u001b[1;32m    131\u001b[0m DrawScore(length_of_snake \u001b[38;5;241m-\u001b[39m \u001b[38;5;241m1\u001b[39m)\n\u001b[0;32m--> 132\u001b[0m pygame\u001b[38;5;241m.\u001b[39mdisplay\u001b[38;5;241m.\u001b[39mupdate()\n\u001b[1;32m    134\u001b[0m \u001b[38;5;66;03m# Next Frame\u001b[39;00m\n\u001b[1;32m    135\u001b[0m clock\u001b[38;5;241m.\u001b[39mtick(FRAMESPEED)\n",
      "\u001b[0;31mKeyboardInterrupt\u001b[0m: "
     ]
    }
   ],
   "source": [
    "'''\n",
    "Do not change the code in this cell!\n",
    "(except for setting draw=False if you want to turn off the game visualization)\n",
    "'''\n",
    "\n",
    "pygame.init()\n",
    "\n",
    "BLOCK_SIZE = 10 \n",
    "DIS_WIDTH = 600\n",
    "DIS_HEIGHT = 500\n",
    "FRAMESPEED = 50000\n",
    "NUM_EPISODES = 300\n",
    "\n",
    "# create a SnakeAgent\n",
    "agent = SnakeAgent(DIS_WIDTH, DIS_HEIGHT, BLOCK_SIZE)\n",
    "\n",
    "game_count = 1\n",
    "max_score = 0\n",
    "\n",
    "# loop for specified number of episodes\n",
    "for i in range(NUM_EPISODES):\n",
    "    # use a decaying epsilon rate\n",
    "    if game_count > 100:\n",
    "        agent.epsilon = .01\n",
    "    else:\n",
    "        agent.epsilon = .3\n",
    "        \n",
    "    # Start the game\n",
    "    # (To turn off the game visualizations, you can set draw=False)\n",
    "    score = GameLoop(agent, DIS_WIDTH, DIS_HEIGHT, BLOCK_SIZE, FRAMESPEED, draw=True)\n",
    "    \n",
    "    max_score = max(max_score, score)\n",
    "    print(f\"Games: {game_count}; Score: {score}; Max Score: {max_score}\") # Output results of each game to console to monitor as agent is training\n",
    "    game_count += 1\n",
    "\n",
    "agent.save()\n",
    "print(\"Save Qvals\")\n",
    "pygame.quit()"
   ]
  },
  {
   "cell_type": "markdown",
   "metadata": {},
   "source": [
    "#### Saving and loading the trained agent\n",
    "The code above above saves your trained agent. You can use the cell below to load your trained agent and run it (so you don't have to re-train it)."
   ]
  },
  {
   "cell_type": "code",
   "execution_count": null,
   "metadata": {},
   "outputs": [],
   "source": [
    "agent.load()\n",
    "pygame.init()\n",
    "GameLoop(agent, DIS_WIDTH, DIS_HEIGHT, BLOCK_SIZE, FRAMESPEED, draw=True)\n",
    "pygame.quit()"
   ]
  },
  {
   "cell_type": "markdown",
   "metadata": {},
   "source": [
    "### Extra Credit (+5)\n",
    "Improve the Agent's Performance. Can you get a max score above 80 within 300 episodes? \n",
    "Potential ideas: improve the state representation, change the reward function, change the hyperparameters, etc.\n",
    "\n",
    "**Copy the SnakeAgent class from above and paste a copy of it in a new cell (you can make a new cell between the SnakeAgent class and the GameLoop cell). Make any extra credit adjustments to the copy, preserving your original SnakeAgent class so that Q1 and Q2 can be graded.**\n",
    "- Write in a markdown cell what you changed and what your observations were"
   ]
  },
  {
   "cell_type": "code",
   "execution_count": null,
   "metadata": {},
   "outputs": [],
   "source": [
    "class SnakeAgentExtraCredit(object):\n",
    "    '''\n",
    "    Do not change this code, except for the 'act' and 'update' methods.\n",
    "    '''\n",
    "    def __init__(self, DIS_WIDTH, DIS_HEIGHT, BLOCK_SIZE):\n",
    "\n",
    "        self.ACTION_STRING_MAP = {0: \"left\", 1: \"right\", 2: \"up\", 3: \"down\"}\n",
    "\n",
    "        # Learning parameters - do not change these for Part 1\n",
    "        self.epsilon = 0.1 # exploration rate\n",
    "        self.alpha = 0.7 # learning rate\n",
    "        self.gamma = 0.5 # discount factor\n",
    "\n",
    "        # Initialize the Q-Table\n",
    "        self.init_qtable()\n",
    "        \n",
    "        # State/Action history\n",
    "        self.curr_state = None\n",
    "        self.curr_act = None\n",
    "        self.curr_dist_from_food = 1000\n",
    "\n",
    "    def init_qtable(self):\n",
    "        '''Initialize the qtable to all 0s'''\n",
    "        self.qtable = {}\n",
    "        REL_Y = [-1, 0, 1] # [below, same, above]\n",
    "        REL_X = [-1, 0, 1] # [left, same, right]\n",
    "        SURROUNDINGS = list(itertools.product(*[[0,1]] * 4)) # [0, 1] possibilities for surrounding block in each direction\n",
    "        for y in REL_X:\n",
    "            for x in REL_Y:\n",
    "                for s in SURROUNDINGS:\n",
    "                    self.qtable[QState((x, y), tuple(s))] = [0, 0, 0, 0] # q values for actions [left, right, up, down]\n",
    "\n",
    "    def load(self, path=\"qtable.pkl\"):\n",
    "        return pkl.load(open(path, \"rb\"))\n",
    "\n",
    "    def save(self, path=\"qtable.pkl\"):\n",
    "        pkl.dump(self.qtable, open(path, \"wb\"))\n",
    "        \n",
    "    \n",
    "    '''\n",
    "    Implement these methods:\n",
    "    '''\n",
    "    \n",
    "    def act(self, state):\n",
    "        self.curr_state = state\n",
    "        exploit_choice = random.random()\n",
    "        if (exploit_choice < self.epsilon) :\n",
    "            self.curr_act = random.randint(0, 3)\n",
    "        else : \n",
    "            q_values = self.qtable[state]\n",
    "            self.curr_act = np.argmax(q_values)\n",
    "        return self.ACTION_STRING_MAP[self.curr_act]\n",
    "    \n",
    "    def update(self, game_over, dist_from_food, new_state):  \n",
    "        # TODO: Implement this method\n",
    "        if game_over:\n",
    "            reward = -10\n",
    "        elif dist_from_food < self.curr_dist_from_food or dist_from_food == 0:\n",
    "            # snake got closer to food or it ate the food (distance == 0)\n",
    "            reward = 1\n",
    "        else:\n",
    "            # snake got futher or didn't eat the food\n",
    "            reward = -1\n",
    "\n",
    "        old_q = self.qtable[self.curr_state][self.curr_act]\n",
    "        self.qtable[self.curr_state][self.curr_act] = old_q + self.alpha * (reward + self.gamma * max(self.qtable[new_state]) - old_q)\n",
    "        \n",
    "        self.curr_dist_from_food = dist_from_food\n",
    "\n",
    "        return reward\n"
   ]
  },
  {
   "cell_type": "markdown",
   "metadata": {},
   "source": [
    "## Part 2: Association Analysis\n",
    "\n",
    "Association analysis uses machine learning to extract frequent itemsets and strong association rules from large datasets. In this assignment you'll be implementing one of the most commonly used algorithms for association rule mining - the Apriori algorithm.\n",
    "\n",
    "The dataset (`large_retail.txt`) that we are going to use has been adapted from the [Retail Market Basket Dataset](http://fimi.ua.ac.be/data/retail.pdf). This dataset contains transaction records supplied by a Belgian retail supermarket store. Each line in the file represents a separate transaction with the item ids separated by space. The dataset has 3000 transactions and 99 different item ids.\n",
    "\n",
    "You are also provided with a smaller dataset (`small_retail.txt`) with 9 transactions and 5 different item ids. You can test and debug your implementation on this smaller dataset."
   ]
  },
  {
   "cell_type": "markdown",
   "metadata": {},
   "source": [
    "### Apriori Algorithm from scratch\n",
    "\n",
    "The Apriori algorithm is a classical algorithm in data mining. It is used for mining frequent itemsets and relevant association rules. In this part, you'll be implementing this algorithm for generating the itemsets that occur enough times to meet the `min_sup` threshold.\n",
    "\n",
    "- Use the `frozenset` data structure in Python, which is similar to `set` in functionality, to represent the itemsets, because `frozenset` is an immutable (hashable) data structure. You can maintain a dictionary that maps from the itemset (a `frozenset`) to its support count."
   ]
  },
  {
   "cell_type": "code",
   "execution_count": null,
   "metadata": {},
   "outputs": [],
   "source": [
    "# Reading the dataset from file\n",
    "def load_dataset(file_name):\n",
    "    with open(file_name, 'r') as f:\n",
    "        content = f.readlines()\n",
    "        data = [[int(x) for x in line.rstrip().split()] for line in content]\n",
    "    return data"
   ]
  },
  {
   "cell_type": "code",
   "execution_count": null,
   "metadata": {},
   "outputs": [
    {
     "data": {
      "text/plain": [
       "[[1, 2, 5],\n",
       " [2, 4],\n",
       " [2, 3],\n",
       " [1, 2, 4],\n",
       " [1, 3],\n",
       " [2, 3],\n",
       " [1, 3],\n",
       " [1, 2, 3, 5],\n",
       " [1, 2, 3]]"
      ]
     },
     "execution_count": 69,
     "metadata": {},
     "output_type": "execute_result"
    }
   ],
   "source": [
    "# Read in the small_retail dataset\n",
    "small_dataset = load_dataset('small_retail.txt')\n",
    "small_dataset"
   ]
  },
  {
   "cell_type": "markdown",
   "metadata": {},
   "source": [
    "Q3. Implement the function `create_1_itemsets` that takes as input the entire dataset and returns a list of all the candidate 1-itemsets. For example, for `small_retail.txt` it should return:\n",
    "~~~\n",
    "[frozenset({1}),\n",
    " frozenset({2}),\n",
    " frozenset({3}),\n",
    " frozenset({4}),\n",
    " frozenset({5})]\n",
    " ~~~\n",
    "Don't hardcode the item ids, your code should support item ids that are non-sequential. Return the list in sorted (numeric) order."
   ]
  },
  {
   "cell_type": "code",
   "execution_count": null,
   "metadata": {},
   "outputs": [],
   "source": [
    "def create_1_itemsets(dataset):\n",
    "    c1 = []\n",
    "    tset = set()\n",
    "    for entry in dataset:\n",
    "        for item in entry:\n",
    "            tset.add(item)\n",
    "    tset = sorted(tset)\n",
    "    for item in tset :\n",
    "        c1.append(frozenset({item}))\n",
    "\n",
    "    return c1\n",
    "sets = create_1_itemsets(small_dataset)"
   ]
  },
  {
   "cell_type": "markdown",
   "metadata": {},
   "source": [
    "Q4. Implement function `filter_candidates` that takes as input the candidate itemsets, the dataset, and the minumum support count `min_sup`, and filters out candidates that don't meet the support threshold.\n",
    "\n",
    "Return a list of all the itemsets that meet `min_sup` (as a list of frozensets) and the support count information for all of them (as a `dict`)."
   ]
  },
  {
   "cell_type": "code",
   "execution_count": null,
   "metadata": {},
   "outputs": [],
   "source": [
    "def filter_candidates(candidates, dataset, min_sup):\n",
    "    retlist = []\n",
    "    support_data = {}\n",
    "    for candidate in candidates : # candidate is one FROZENSET\n",
    "        support_data[candidate] = 0\n",
    "        for entry in dataset:\n",
    "            if candidate.issubset(entry) : \n",
    "                support_data[candidate] = support_data[candidate] + 1\n",
    "        if (support_data[candidate] >= min_sup) :\n",
    "            retlist.append(candidate)\n",
    "        else : \n",
    "            del support_data[candidate]\n",
    "    return retlist, support_data\n",
    "a, b = filter_candidates(sets, small_dataset, min_sup=3)"
   ]
  },
  {
   "cell_type": "markdown",
   "metadata": {},
   "source": [
    "Q5. Implement the function `generate_next_itemsets` that takes in frequent itemsets of size `k` and generates candidate itemsets of size `k + 1`.\n",
    "\n",
    "Use either the F(k-1) x F(k-1) or the F(k-1) x F(1) candidate generation method, then **filter the candidate list based on the apriori principle before returning it.**"
   ]
  },
  {
   "cell_type": "code",
   "execution_count": null,
   "metadata": {},
   "outputs": [],
   "source": [
    "from itertools import combinations\n",
    "# If we are dealing with F2, we need to pass in F1 twice!\n",
    "def generate_next_itemsets(freq_sets, freq_1_sets=None):\n",
    "    retlist = []\n",
    "    all_perms = set()\n",
    "\n",
    "    for k_item in freq_sets :\n",
    "        for one_item in freq_1_sets :\n",
    "            l = []\n",
    "            if (k_item != one_item) :\n",
    "                if len(k_item) > 1 :\n",
    "                    for j in k_item : \n",
    "                        l.append(j)\n",
    "                else :\n",
    "                    l.append(next(iter(k_item)))\n",
    "\n",
    "                l.append(next(iter(one_item)))\n",
    "                froz = frozenset(l)\n",
    "                if (len(l) == len(freq_sets[0]) + 1 and len(froz) == len(l)) :\n",
    "                    all_perms.add(froz)\n",
    "    if (len(freq_sets[0]) == 1) :\n",
    "        return list(all_perms)\n",
    "\n",
    "    # unpacks the candidates to get the individual items\n",
    "    for candidate in all_perms :\n",
    "        is_freq_subset = True\n",
    "        for subset in (combinations(candidate, len(candidate) - 1)) :\n",
    "            if len(subset) == len(candidate) - 1 :\n",
    "                if frozenset(subset) not in freq_sets:\n",
    "                    is_freq_subset = False\n",
    "                    continue\n",
    "        if (is_freq_subset) :\n",
    "            retlist.append(candidate)\n",
    "    \n",
    "    return retlist\n",
    "\n",
    "# f1 = filter_candidates(create_1_itemsets(small_dataset), small_dataset, 1)\n",
    "# f2 = generate_next_itemsets(f1[0], f1[0])\n",
    "# generate_next_itemsets(f2, f1[0])\n"
   ]
  },
  {
   "cell_type": "markdown",
   "metadata": {},
   "source": [
    "Q6. Implement the function `apriori_freq_itemsets` that takes the entire dataset as input and returns all the frequent itemsets that meet `min_sup`. Return a list of all the itemsets that meet `min_sup` (as a list of frozensets) and the support count information for all of them (as a `dict`)."
   ]
  },
  {
   "cell_type": "code",
   "execution_count": null,
   "metadata": {},
   "outputs": [
    {
     "name": "stdout",
     "output_type": "stream",
     "text": [
      "frozenset({1, 3, 5})\n",
      "frozenset({1, 2, 4})\n",
      "frozenset({1, 2, 5})\n",
      "frozenset({2, 3, 5})\n",
      "frozenset({1, 2, 3})\n",
      "frozenset({1, 2, 3, 5})\n",
      "frozenset({1})\n"
     ]
    }
   ],
   "source": [
    "def apriori_freq_itemsets(dataset, minsup):\n",
    "    # Temp list is going to store F1, F2, ... Fk\n",
    "    temp_list = []\n",
    "    # Ret list will store each frequent itemset, such as F[1], F[2], F[1,2], ...\n",
    "    retlist = []\n",
    "    support_data = {}\n",
    "\n",
    "    # Generate the k=1 and k=2 itemsets\n",
    "    candidate1 = create_1_itemsets(dataset)\n",
    "    f1, support_data = filter_candidates(candidate1, dataset, minsup)\n",
    "    temp_list.append(f1)\n",
    "    f2 = generate_next_itemsets(f1, f1)\n",
    "    f_k, d2 = filter_candidates(f2, dataset, minsup)\n",
    "    support_data = {**support_data, **d2}\n",
    "    temp_list.append(f_k)\n",
    "    \n",
    "    while len(f_k) > 0:\n",
    "        f_k = generate_next_itemsets(temp_list[-1], temp_list[0])\n",
    "        f_k, d_k = filter_candidates(f_k, dataset, minsup)\n",
    "        temp_list.append(f_k)\n",
    "        support_data = {**support_data, **d_k}\n",
    "    for i in temp_list : \n",
    "        for j in i : \n",
    "            retlist.append(j)\n",
    "    return retlist, support_data\n",
    "\n",
    "a, b = apriori_freq_itemsets(small_dataset, 1)\n",
    "print(a[0])"
   ]
  },
  {
   "cell_type": "markdown",
   "metadata": {},
   "source": [
    "Q7. Use the provided `print_itemsets` function to display the frequent itemsets and their supports for the `large_retail.txt` dataset **with a min_support count of 300**.\n",
    "\n",
    "For testing/debugging purposes, the output for the `small_retail.txt` dataset with `min_sup` set to 2 is:\n",
    "~~~~\n",
    "Sup\tFreq Itemset\n",
    "6\t[1]\n",
    "7\t[2]\n",
    "6\t[3]\n",
    "2\t[4]\n",
    "2\t[5]\n",
    "4\t[1, 2]\n",
    "4\t[1, 3]\n",
    "2\t[1, 5]\n",
    "4\t[2, 3]\n",
    "2\t[2, 4]\n",
    "2\t[2, 5]\n",
    "2\t[1, 2, 3]\n",
    "2\t[1, 2, 5]\n",
    "~~~~"
   ]
  },
  {
   "cell_type": "code",
   "execution_count": null,
   "metadata": {},
   "outputs": [],
   "source": [
    "# DO NOT CHANGE THE CODE IN THIS CELL\n",
    "\n",
    "'''\n",
    "If total_tid is not set, support count will be displayed.\n",
    "If total_tid is set to the length of the dataset, support as a percentage/ratio will be displayed.\n",
    "'''\n",
    "def print_itemsets(support_data, total_tid=1):\n",
    "    print ('\\nSup\\tFreq Itemset')\n",
    "    #group itemsets by length\n",
    "    length_dict = {}\n",
    "    \n",
    "    for itemset in support_data:\n",
    "        #sort the itemset\n",
    "        lst = (sorted(list(itemset)))\n",
    "        #add it to dictionary by length\n",
    "        if len(lst) not in length_dict:\n",
    "            length_dict[len(lst)] = []\n",
    "        length_dict[len(lst)].append(lst)\n",
    "\n",
    "    for length in length_dict:\n",
    "        lst = sorted(length_dict[length])\n",
    "        for item in lst:\n",
    "            if total_tid == 1: #support count\n",
    "                print(str(support_data[frozenset(item)]) + '\\t' + str(item))\n",
    "            else: #support ratio\n",
    "                print(str(round(support_data[frozenset(item)] / total_tid, 2)) + '\\t' + str(item))"
   ]
  },
  {
   "cell_type": "code",
   "execution_count": null,
   "metadata": {},
   "outputs": [
    {
     "name": "stdout",
     "output_type": "stream",
     "text": [
      "frozenset({1, 2, 5})\n",
      "frozenset({1, 2, 3})\n",
      "\n",
      "Sup\tFreq Itemset\n",
      "6\t[1]\n",
      "7\t[2]\n",
      "6\t[3]\n",
      "2\t[4]\n",
      "2\t[5]\n",
      "4\t[1, 2]\n",
      "4\t[1, 3]\n",
      "2\t[1, 5]\n",
      "4\t[2, 3]\n",
      "2\t[2, 4]\n",
      "2\t[2, 5]\n",
      "2\t[1, 2, 3]\n",
      "2\t[1, 2, 5]\n"
     ]
    }
   ],
   "source": [
    "l, d = apriori_freq_itemsets(small_dataset, 2)\n",
    "print_itemsets(d)"
   ]
  },
  {
   "cell_type": "markdown",
   "metadata": {},
   "source": [
    "## Part 3: Apriori Algorithm using MLXtend\n",
    "\n",
    "#### Installation\n",
    "`MLxtend` is a library that provides functionality for association rule mining. The documentation for this library is available [here](http://rasbt.github.io/mlxtend/)."
   ]
  },
  {
   "cell_type": "code",
   "execution_count": null,
   "metadata": {
    "scrolled": true
   },
   "outputs": [],
   "source": [
    "# install the MLxtend library\n",
    "# !pip install mlxtend"
   ]
  },
  {
   "cell_type": "code",
   "execution_count": 259,
   "metadata": {},
   "outputs": [],
   "source": [
    "import matplotlib.pyplot as plt\n",
    "from mlxtend.preprocessing import TransactionEncoder\n",
    "from mlxtend.frequent_patterns import apriori\n",
    "from mlxtend.frequent_patterns import association_rules\n",
    "from mlxtend.frequent_patterns import fpmax\n",
    "\n",
    "\n",
    "%matplotlib inline"
   ]
  },
  {
   "cell_type": "markdown",
   "metadata": {},
   "source": [
    "### Dataset\n",
    "For the third part of this assignment, the data we'll use comes from a bakery called \"The Bread Basket\", located in the historic center of Edinburgh. The dataset contains more than 9000 transactions from the bakery. The file contains the following columns:\n",
    "\n",
    "- Date. Categorical variable that tells us the date of the transactions (YYYY-MM-DD format). The column includes dates from 2016-10-30 to 2017-04-09.\n",
    "\n",
    "- Time. Categorical variable that tells us the time of the transactions (HH:MM:SS format).\n",
    "\n",
    "- Transaction. Quantitative variable that allows us to differentiate the transactions. The rows that share the same value in this field belong to the same transaction.\n",
    "\n",
    "- Item. Categorical variable with the products purchased.\n",
    "\n",
    "In this part, you'll be running the Apriori algorithm from the MLxtend library to generate the itemsets that occur more than the `min_sup` threshold. Based on these frequent itemsets, you'll find association rules that have confidence above the `min_conf` threshold."
   ]
  },
  {
   "cell_type": "code",
   "execution_count": 217,
   "metadata": {},
   "outputs": [],
   "source": [
    "# Reading the dataset from file\n",
    "def load_dataset(file_name):\n",
    "    with open(file_name, 'r') as f:\n",
    "        content = f.readlines()[1:]\n",
    "    transactions = []\n",
    "    prev_tid = -1\n",
    "    for t in content:\n",
    "        t = t.strip().split(',')[-2:]\n",
    "        tid = t[0]\n",
    "        item = t[1]\n",
    "        if prev_tid != tid:\n",
    "            prev_tid = tid\n",
    "            transactions.append([item])\n",
    "        else:\n",
    "            transactions[-1].append(item)\n",
    "    return transactions"
   ]
  },
  {
   "cell_type": "code",
   "execution_count": 218,
   "metadata": {},
   "outputs": [
    {
     "name": "stdout",
     "output_type": "stream",
     "text": [
      "Num transactions: 9531\n"
     ]
    },
    {
     "data": {
      "text/plain": [
       "[['Bread'],\n",
       " ['Scandinavian', 'Scandinavian'],\n",
       " ['Hot chocolate', 'Jam', 'Cookies'],\n",
       " ['Muffin'],\n",
       " ['Coffee', 'Pastry', 'Bread'],\n",
       " ['Medialuna', 'Pastry', 'Muffin'],\n",
       " ['Medialuna', 'Pastry', 'Coffee', 'Tea'],\n",
       " ['Pastry', 'Bread'],\n",
       " ['Bread', 'Muffin'],\n",
       " ['Scandinavian', 'Medialuna']]"
      ]
     },
     "execution_count": 218,
     "metadata": {},
     "output_type": "execute_result"
    }
   ],
   "source": [
    "dataset = load_dataset('BreadBasket_DMS.csv')\n",
    "\n",
    "# ** NOTE: dataset is a 2D list (not a dataframe!) **\n",
    "\n",
    "print(\"Num transactions:\", len(dataset))\n",
    "#Print the first 10 transactions\n",
    "dataset[:10]"
   ]
  },
  {
   "cell_type": "markdown",
   "metadata": {},
   "source": [
    "Q8. Data Cleaning: Many transactions in the dataset include the item \"NONE.\" First, find and remove all the \"NONE\" items from the dataset. There are some transactions that only contain \"NONE,\" so removing \"NONE\" will leave some transactions as empty lists. Remove all the empty lists as well. \n",
    "\n",
    "Once you have removed the NONEs, find the top 10 best-selling items in the bakery. Create a bar chart to display the total number of transactions for each of the top 10 selling items. Sort the bar chart by frequency (the top most sold item first, down to the 10th most sold item)."
   ]
  },
  {
   "cell_type": "code",
   "execution_count": 244,
   "metadata": {},
   "outputs": [
    {
     "data": {
      "text/plain": [
       "([0, 1, 2, 3, 4, 5, 6, 7, 8, 9],\n",
       " [Text(0, 0, 'Coffee'),\n",
       "  Text(1, 0, 'Bread'),\n",
       "  Text(2, 0, 'Tea'),\n",
       "  Text(3, 0, 'Cake'),\n",
       "  Text(4, 0, 'Pastry'),\n",
       "  Text(5, 0, 'Sandwich'),\n",
       "  Text(6, 0, 'Medialuna'),\n",
       "  Text(7, 0, 'Hot chocolate'),\n",
       "  Text(8, 0, 'Cookies'),\n",
       "  Text(9, 0, 'Brownie')])"
      ]
     },
     "execution_count": 244,
     "metadata": {},
     "output_type": "execute_result"
    },
    {
     "data": {
      "image/png": "[encoded data removed]",
      "text/plain": [
       "<Figure size 640x480 with 1 Axes>"
      ]
     },
     "metadata": {},
     "output_type": "display_data"
    }
   ],
   "source": [
    "# print(\"Num transactions:\", len(dataset))\n",
    "freq = {}\n",
    "for i in range(len(dataset)-1, 0, -1): \n",
    "    for item in dataset[i] : \n",
    "        if 'NONE' in dataset[i] :\n",
    "            dataset[i].remove('NONE')\n",
    "        freq[item] = 1 if item not in freq else freq[item] + 1\n",
    "    if (len(dataset[i]) == 0) :\n",
    "        dataset.remove(dataset[i])\n",
    "\n",
    "sorted_freq = dict(sorted(freq.items(), key = lambda item: item[1], reverse=True))\n",
    "\n",
    "top_ten = list(sorted_freq)[:10]\n",
    "sorted_top_ten_val = []\n",
    "for i in top_ten : \n",
    "    sorted_top_ten_val.append(sorted_freq[i])\n",
    "plt.bar(top_ten, sorted_top_ten_val)\n",
    "plt.xticks(rotation='vertical')\n"
   ]
  },
  {
   "cell_type": "markdown",
   "metadata": {},
   "source": [
    "Q9. \n",
    "\n",
    "a.) Using `mlxtend.preprocessing.TransactionEncoder`, transform `dataset` into an array format suitable for the `mlxtend` library. You will need to call `fit` then `transform`. \n",
    "\n",
    "`TransactionEncoder` learns unique items from the dataset and transforms each transaction into a one-hot encoded boolean numpy array. For example, the resulting encoded dataset will be represented by something like this, where each row is a transaction. If the first transaction contained ['Crepe', 'Jam'], this would correspond to the first row in the encoded table. \n",
    "\n",
    "<img src=\"table.png\">\n",
    "\n",
    "Print the `shape` of the resulting encoded numpy array.\n",
    "\n",
    "b.) `TransactionEncoder` also has a function `inverse_transform` that allows you to tranform one-hot encoded transactions back to the item labels. Try it out on the first 5 transactions and display the items in the first 5 transactions."
   ]
  },
  {
   "cell_type": "code",
   "execution_count": 276,
   "metadata": {},
   "outputs": [
    {
     "name": "stdout",
     "output_type": "stream",
     "text": [
      "nparray shape:  (9465, 94)\n",
      "[['Bread'], ['Scandinavian'], ['Cookies', 'Hot chocolate', 'Jam'], ['Muffin'], ['Bread', 'Coffee', 'Pastry']]\n"
     ]
    }
   ],
   "source": [
    "te = TransactionEncoder()\n",
    "te_ary = te.fit(dataset).transform(dataset)\n",
    "print(\"nparray shape: \", te_ary.shape)\n",
    "# We successfully got a numpy array\n",
    "\n",
    "subs = te_ary[:5]\n",
    "inv = te.inverse_transform(subs)\n",
    "print(inv)\n",
    "# It appears as if the function worked."
   ]
  },
  {
   "cell_type": "markdown",
   "metadata": {},
   "source": [
    "Q10. Convert the encoded numpy array from the previous question (part a) into a pandas dataframe. Use the `TransactionEncoder`'s `.columns_` attribute as the column headers. Print the head of the resulting dataframe. "
   ]
  },
  {
   "cell_type": "code",
   "execution_count": 277,
   "metadata": {},
   "outputs": [
    {
     "data": {
      "text/html": [
       "<div>\n",
       "<style scoped>\n",
       "    .dataframe tbody tr th:only-of-type {\n",
       "        vertical-align: middle;\n",
       "    }\n",
       "\n",
       "    .dataframe tbody tr th {\n",
       "        vertical-align: top;\n",
       "    }\n",
       "\n",
       "    .dataframe thead th {\n",
       "        text-align: right;\n",
       "    }\n",
       "</style>\n",
       "<table border=\"1\" class=\"dataframe\">\n",
       "  <thead>\n",
       "    <tr style=\"text-align: right;\">\n",
       "      <th></th>\n",
       "      <th>Adjustment</th>\n",
       "      <th>Afternoon with the baker</th>\n",
       "      <th>Alfajores</th>\n",
       "      <th>Argentina Night</th>\n",
       "      <th>Art Tray</th>\n",
       "      <th>Bacon</th>\n",
       "      <th>Baguette</th>\n",
       "      <th>Bakewell</th>\n",
       "      <th>Bare Popcorn</th>\n",
       "      <th>Basket</th>\n",
       "      <th>...</th>\n",
       "      <th>The BART</th>\n",
       "      <th>The Nomad</th>\n",
       "      <th>Tiffin</th>\n",
       "      <th>Toast</th>\n",
       "      <th>Truffles</th>\n",
       "      <th>Tshirt</th>\n",
       "      <th>Valentine's card</th>\n",
       "      <th>Vegan Feast</th>\n",
       "      <th>Vegan mincepie</th>\n",
       "      <th>Victorian Sponge</th>\n",
       "    </tr>\n",
       "  </thead>\n",
       "  <tbody>\n",
       "    <tr>\n",
       "      <th>0</th>\n",
       "      <td>False</td>\n",
       "      <td>False</td>\n",
       "      <td>False</td>\n",
       "      <td>False</td>\n",
       "      <td>False</td>\n",
       "      <td>False</td>\n",
       "      <td>False</td>\n",
       "      <td>False</td>\n",
       "      <td>False</td>\n",
       "      <td>False</td>\n",
       "      <td>...</td>\n",
       "      <td>False</td>\n",
       "      <td>False</td>\n",
       "      <td>False</td>\n",
       "      <td>False</td>\n",
       "      <td>False</td>\n",
       "      <td>False</td>\n",
       "      <td>False</td>\n",
       "      <td>False</td>\n",
       "      <td>False</td>\n",
       "      <td>False</td>\n",
       "    </tr>\n",
       "    <tr>\n",
       "      <th>1</th>\n",
       "      <td>False</td>\n",
       "      <td>False</td>\n",
       "      <td>False</td>\n",
       "      <td>False</td>\n",
       "      <td>False</td>\n",
       "      <td>False</td>\n",
       "      <td>False</td>\n",
       "      <td>False</td>\n",
       "      <td>False</td>\n",
       "      <td>False</td>\n",
       "      <td>...</td>\n",
       "      <td>False</td>\n",
       "      <td>False</td>\n",
       "      <td>False</td>\n",
       "      <td>False</td>\n",
       "      <td>False</td>\n",
       "      <td>False</td>\n",
       "      <td>False</td>\n",
       "      <td>False</td>\n",
       "      <td>False</td>\n",
       "      <td>False</td>\n",
       "    </tr>\n",
       "    <tr>\n",
       "      <th>2</th>\n",
       "      <td>False</td>\n",
       "      <td>False</td>\n",
       "      <td>False</td>\n",
       "      <td>False</td>\n",
       "      <td>False</td>\n",
       "      <td>False</td>\n",
       "      <td>False</td>\n",
       "      <td>False</td>\n",
       "      <td>False</td>\n",
       "      <td>False</td>\n",
       "      <td>...</td>\n",
       "      <td>False</td>\n",
       "      <td>False</td>\n",
       "      <td>False</td>\n",
       "      <td>False</td>\n",
       "      <td>False</td>\n",
       "      <td>False</td>\n",
       "      <td>False</td>\n",
       "      <td>False</td>\n",
       "      <td>False</td>\n",
       "      <td>False</td>\n",
       "    </tr>\n",
       "    <tr>\n",
       "      <th>3</th>\n",
       "      <td>False</td>\n",
       "      <td>False</td>\n",
       "      <td>False</td>\n",
       "      <td>False</td>\n",
       "      <td>False</td>\n",
       "      <td>False</td>\n",
       "      <td>False</td>\n",
       "      <td>False</td>\n",
       "      <td>False</td>\n",
       "      <td>False</td>\n",
       "      <td>...</td>\n",
       "      <td>False</td>\n",
       "      <td>False</td>\n",
       "      <td>False</td>\n",
       "      <td>False</td>\n",
       "      <td>False</td>\n",
       "      <td>False</td>\n",
       "      <td>False</td>\n",
       "      <td>False</td>\n",
       "      <td>False</td>\n",
       "      <td>False</td>\n",
       "    </tr>\n",
       "    <tr>\n",
       "      <th>4</th>\n",
       "      <td>False</td>\n",
       "      <td>False</td>\n",
       "      <td>False</td>\n",
       "      <td>False</td>\n",
       "      <td>False</td>\n",
       "      <td>False</td>\n",
       "      <td>False</td>\n",
       "      <td>False</td>\n",
       "      <td>False</td>\n",
       "      <td>False</td>\n",
       "      <td>...</td>\n",
       "      <td>False</td>\n",
       "      <td>False</td>\n",
       "      <td>False</td>\n",
       "      <td>False</td>\n",
       "      <td>False</td>\n",
       "      <td>False</td>\n",
       "      <td>False</td>\n",
       "      <td>False</td>\n",
       "      <td>False</td>\n",
       "      <td>False</td>\n",
       "    </tr>\n",
       "  </tbody>\n",
       "</table>\n",
       "<p>5 rows × 94 columns</p>\n",
       "</div>"
      ],
      "text/plain": [
       "   Adjustment  Afternoon with the baker  Alfajores  Argentina Night  Art Tray  \\\n",
       "0       False                     False      False            False     False   \n",
       "1       False                     False      False            False     False   \n",
       "2       False                     False      False            False     False   \n",
       "3       False                     False      False            False     False   \n",
       "4       False                     False      False            False     False   \n",
       "\n",
       "   Bacon  Baguette  Bakewell  Bare Popcorn  Basket  ...  The BART  The Nomad  \\\n",
       "0  False     False     False         False   False  ...     False      False   \n",
       "1  False     False     False         False   False  ...     False      False   \n",
       "2  False     False     False         False   False  ...     False      False   \n",
       "3  False     False     False         False   False  ...     False      False   \n",
       "4  False     False     False         False   False  ...     False      False   \n",
       "\n",
       "   Tiffin  Toast  Truffles  Tshirt  Valentine's card  Vegan Feast  \\\n",
       "0   False  False     False   False             False        False   \n",
       "1   False  False     False   False             False        False   \n",
       "2   False  False     False   False             False        False   \n",
       "3   False  False     False   False             False        False   \n",
       "4   False  False     False   False             False        False   \n",
       "\n",
       "   Vegan mincepie  Victorian Sponge  \n",
       "0           False             False  \n",
       "1           False             False  \n",
       "2           False             False  \n",
       "3           False             False  \n",
       "4           False             False  \n",
       "\n",
       "[5 rows x 94 columns]"
      ]
     },
     "execution_count": 277,
     "metadata": {},
     "output_type": "execute_result"
    }
   ],
   "source": [
    "import pandas as pd\n",
    "df = pd.DataFrame(te_ary, columns=te.columns_)\n",
    "df.head()"
   ]
  },
  {
   "cell_type": "markdown",
   "metadata": {},
   "source": [
    "Q11. Use the `mlxtend.frequent_patterns.apriori` to generate the frequent itemsets with minimum support of 1% (0.01). Display these itemsets along with their support values."
   ]
  },
  {
   "cell_type": "code",
   "execution_count": 278,
   "metadata": {},
   "outputs": [],
   "source": [
    "# your code goes here\n",
    "freq_items = apriori(df, min_support=0.01, use_colnames=True)"
   ]
  },
  {
   "cell_type": "markdown",
   "metadata": {},
   "source": [
    "Q12. Use `mlxtend.frequent_patterns.fpmax` to find and display all of the maximal frequent itemsets along with their support values. "
   ]
  },
  {
   "cell_type": "code",
   "execution_count": 279,
   "metadata": {},
   "outputs": [],
   "source": [
    "# your code goes here\n",
    "freq_items = fpmax(df, min_support=0.01, use_colnames=True)\n"
   ]
  },
  {
   "cell_type": "markdown",
   "metadata": {},
   "source": [
    "Q13. Use `mlxtend.frequent_patterns.association_rules` to calculate rules with a confidence level of 0.25 for the frequent itemsets you generated in Q11."
   ]
  },
  {
   "cell_type": "code",
   "execution_count": 282,
   "metadata": {},
   "outputs": [
    {
     "ename": "KeyError",
     "evalue": "\"frozenset({'Spanish Brunch'})You are likely getting this error because the DataFrame is missing  antecedent and/or consequent  information. You can try using the  `support_only=True` option\"",
     "output_type": "error",
     "traceback": [
      "\u001b[0;31m---------------------------------------------------------------------------\u001b[0m",
      "\u001b[0;31mKeyError\u001b[0m                                  Traceback (most recent call last)",
      "File \u001b[0;32m~/anaconda3/lib/python3.11/site-packages/mlxtend/frequent_patterns/association_rules.py:181\u001b[0m, in \u001b[0;36massociation_rules\u001b[0;34m(df, metric, min_threshold, support_only)\u001b[0m\n\u001b[1;32m    180\u001b[0m \u001b[38;5;28;01mtry\u001b[39;00m:\n\u001b[0;32m--> 181\u001b[0m     sA \u001b[38;5;241m=\u001b[39m frequent_items_dict[antecedent]\n\u001b[1;32m    182\u001b[0m     sC \u001b[38;5;241m=\u001b[39m frequent_items_dict[consequent]\n",
      "\u001b[0;31mKeyError\u001b[0m: frozenset({'Spanish Brunch'})",
      "\nDuring handling of the above exception, another exception occurred:\n",
      "\u001b[0;31mKeyError\u001b[0m                                  Traceback (most recent call last)",
      "Cell \u001b[0;32mIn[282], line 1\u001b[0m\n\u001b[0;32m----> 1\u001b[0m association_rules(freq_items, metric\u001b[38;5;241m=\u001b[39m\u001b[38;5;124m\"\u001b[39m\u001b[38;5;124mconfidence\u001b[39m\u001b[38;5;124m\"\u001b[39m, min_threshold\u001b[38;5;241m=\u001b[39m\u001b[38;5;241m0.25\u001b[39m)\n",
      "File \u001b[0;32m~/anaconda3/lib/python3.11/site-packages/mlxtend/frequent_patterns/association_rules.py:192\u001b[0m, in \u001b[0;36massociation_rules\u001b[0;34m(df, metric, min_threshold, support_only)\u001b[0m\n\u001b[1;32m    183\u001b[0m     \u001b[38;5;28;01mexcept\u001b[39;00m \u001b[38;5;167;01mKeyError\u001b[39;00m \u001b[38;5;28;01mas\u001b[39;00m e:\n\u001b[1;32m    184\u001b[0m         s \u001b[38;5;241m=\u001b[39m (\n\u001b[1;32m    185\u001b[0m             \u001b[38;5;28mstr\u001b[39m(e) \u001b[38;5;241m+\u001b[39m \u001b[38;5;124m\"\u001b[39m\u001b[38;5;124mYou are likely getting this error\u001b[39m\u001b[38;5;124m\"\u001b[39m\n\u001b[1;32m    186\u001b[0m             \u001b[38;5;124m\"\u001b[39m\u001b[38;5;124m because the DataFrame is missing \u001b[39m\u001b[38;5;124m\"\u001b[39m\n\u001b[0;32m   (...)\u001b[0m\n\u001b[1;32m    190\u001b[0m             \u001b[38;5;124m\"\u001b[39m\u001b[38;5;124m `support_only=True` option\u001b[39m\u001b[38;5;124m\"\u001b[39m\n\u001b[1;32m    191\u001b[0m         )\n\u001b[0;32m--> 192\u001b[0m         \u001b[38;5;28;01mraise\u001b[39;00m \u001b[38;5;167;01mKeyError\u001b[39;00m(s)\n\u001b[1;32m    193\u001b[0m     \u001b[38;5;66;03m# check for the threshold\u001b[39;00m\n\u001b[1;32m    195\u001b[0m score \u001b[38;5;241m=\u001b[39m metric_dict[metric](sAC, sA, sC)\n",
      "\u001b[0;31mKeyError\u001b[0m: \"frozenset({'Spanish Brunch'})You are likely getting this error because the DataFrame is missing  antecedent and/or consequent  information. You can try using the  `support_only=True` option\""
     ]
    }
   ],
   "source": [
    "association_rules(freq_items, metric=\"confidence\", min_threshold=0.25)"
   ]
  },
  {
   "cell_type": "markdown",
   "metadata": {},
   "source": [
    "Q14. An important step in generating a set of association rules is to determine the optimal thresholds for support and confidence. If we set these values too low we will get a lot of rules and most of them will not be useful. \n",
    "\n",
    "Generate the frequent itemsets with minimum support of 0.5% and plot the number of rules generated with respect to the confidence threshold by varying min_conf between 0 and 1 with increments of 0.1. Notice what happens when you increase the confidence level."
   ]
  },
  {
   "cell_type": "code",
   "execution_count": null,
   "metadata": {},
   "outputs": [],
   "source": [
    "# your code goes here"
   ]
  },
  {
   "cell_type": "markdown",
   "metadata": {},
   "source": [
    "Q15. What value would you choose for the minimum confidence threshold based on the previous plot? Explain why as a comment. \n",
    "\n",
    "Display the rules generated for the your chosen value. Take a look at the generated rules. Are they interesting? As a comment, explain why or why not."
   ]
  },
  {
   "cell_type": "code",
   "execution_count": null,
   "metadata": {},
   "outputs": [],
   "source": [
    "# your code goes here"
   ]
  }
 ],
 "metadata": {
  "kernelspec": {
   "display_name": "Python 3 (ipykernel)",
   "language": "python",
   "name": "python3"
  },
  "language_info": {
   "codemirror_mode": {
    "name": "ipython",
    "version": 3
   },
   "file_extension": ".py",
   "mimetype": "text/x-python",
   "name": "python",
   "nbconvert_exporter": "python",
   "pygments_lexer": "ipython3",
   "version": "3.11.5"
  }
 },
 "nbformat": 4,
 "nbformat_minor": 2
}
